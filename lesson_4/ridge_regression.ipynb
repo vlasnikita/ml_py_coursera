{
 "cells": [
  {
   "cell_type": "code",
   "execution_count": 47,
   "metadata": {
    "scrolled": true
   },
   "outputs": [
    {
     "name": "stdout",
     "output_type": "stream",
     "text": [
      "56555.62 37188.32\n"
     ]
    }
   ],
   "source": [
    "import pandas\n",
    "import numpy as np\n",
    "from sklearn.feature_extraction import DictVectorizer\n",
    "from sklearn.feature_extraction.text import TfidfVectorizer\n",
    "from scipy.sparse import hstack\n",
    "from sklearn.linear_model import Ridge\n",
    "\n",
    "PATH = '/Users/vlasnikita/Documents/vls/py/ml_py_coursera/'\n",
    "\n",
    "# Загрузите данные об описаниях вакансий и соответствующих годовых зарплатах из файла salary-train.csv.\n",
    "data_train = pandas.read_csv(PATH + 'lesson_4/salary-train.csv')\n",
    "data_test = pandas.read_csv(PATH + 'lesson_4/salary-test-mini.csv')\n",
    "\n",
    "# Приведите тексты к нижнему регистру\n",
    "data_train['FullDescription'] = data_train['FullDescription'].str.lower()\n",
    "data_test['FullDescription'] = data_test['FullDescription'].str.lower()\n",
    "\n",
    "# Замените все, кроме букв и цифр, на пробелы\n",
    "data_train['FullDescription'] = data_train['FullDescription'].replace('[^a-zA-Z0-9]', ' ', regex = True)\n",
    "data_test['FullDescription'] = data_test['FullDescription'].replace('[^a-zA-Z0-9]', ' ', regex = True)\n",
    "\n",
    "# Примените TfidfVectorizer для преобразования текстов в векторы признаков\n",
    "vectorizer = TfidfVectorizer(min_df=5) \n",
    "X_train_tfid = vectorizer.fit_transform(data_train['FullDescription'])\n",
    "X_test_tfid = vectorizer.transform(data_test['FullDescription'])\n",
    "\n",
    "# Замените пропуски в столбцах LocationNormalized и ContractTime на специальную строку 'nan'.\n",
    "data_train['LocationNormalized'].fillna('nan', inplace=True)\n",
    "data_train['ContractTime'].fillna('nan', inplace=True)\n",
    "\n",
    "# Примените DictVectorizer для получения one-hot-кодирования признаков LocationNormalized и ContractTime\n",
    "enc = DictVectorizer()\n",
    "X_train_categ = enc.fit_transform(data_train[['LocationNormalized', 'ContractTime']].to_dict('records'))\n",
    "X_test_categ = enc.transform(data_test[['LocationNormalized', 'ContractTime']].to_dict('records'))\n",
    "\n",
    "# Объедините все полученные признаки в одну матрицу \"объекты-признаки\". \n",
    "X_train = hstack([X_train_tfid, X_train_categ])\n",
    "X_test = hstack([X_test_tfid, X_test_categ])\n",
    "\n",
    "# Обучите гребневую регрессию с параметрами alpha=1 и random_state=241. Целевая переменная записана в столбце SalaryNormalized. \n",
    "clf = Ridge(alpha=1.0, random_state=241)\n",
    "clf.fit(X_train, data_train['SalaryNormalized'])\n",
    "\n",
    "# Постройте прогнозы для двух примеров из файла salary-test-mini.csv. \n",
    "result = np.round(clf.predict(X_test), 2)\n",
    "\n",
    "# [56555.62 37188.32]\n",
    "answer = '{} {}'.format(str(result[0]), str(result[1]))\n",
    "\n",
    "file = open(PATH + 'lesson_4/1.txt', 'w')\n",
    "file.write(answer)\n"
   ]
  },
  {
   "cell_type": "code",
   "execution_count": null,
   "metadata": {},
   "outputs": [],
   "source": []
  },
  {
   "cell_type": "code",
   "execution_count": null,
   "metadata": {},
   "outputs": [],
   "source": [
    "  "
   ]
  }
 ],
 "metadata": {
  "kernelspec": {
   "display_name": "Python 2",
   "language": "python",
   "name": "python2"
  },
  "language_info": {
   "codemirror_mode": {
    "name": "ipython",
    "version": 2
   },
   "file_extension": ".py",
   "mimetype": "text/x-python",
   "name": "python",
   "nbconvert_exporter": "python",
   "pygments_lexer": "ipython2",
   "version": "2.7.15"
  }
 },
 "nbformat": 4,
 "nbformat_minor": 2
}
